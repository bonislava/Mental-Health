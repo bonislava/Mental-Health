{
 "cells": [
  {
   "cell_type": "markdown",
   "id": "d487d799",
   "metadata": {},
   "source": [
    "# Visualizations"
   ]
  },
  {
   "cell_type": "code",
   "execution_count": 1,
   "id": "3eb9c593",
   "metadata": {},
   "outputs": [],
   "source": [
    "import pandas as pd\n",
    "import dash\n",
    "from dash import dcc, html\n",
    "from dash.dependencies import Input, Output\n",
    "import plotly.express as px\n",
    "import plotly.graph_objects as go"
   ]
  },
  {
   "cell_type": "code",
   "execution_count": 2,
   "id": "8df0be04",
   "metadata": {},
   "outputs": [
    {
     "data": {
      "text/html": [
       "<div>\n",
       "<style scoped>\n",
       "    .dataframe tbody tr th:only-of-type {\n",
       "        vertical-align: middle;\n",
       "    }\n",
       "\n",
       "    .dataframe tbody tr th {\n",
       "        vertical-align: top;\n",
       "    }\n",
       "\n",
       "    .dataframe thead th {\n",
       "        text-align: right;\n",
       "    }\n",
       "</style>\n",
       "<table border=\"1\" class=\"dataframe\">\n",
       "  <thead>\n",
       "    <tr style=\"text-align: right;\">\n",
       "      <th></th>\n",
       "      <th>Number</th>\n",
       "      <th>Sleep</th>\n",
       "      <th>Appetite</th>\n",
       "      <th>Interest</th>\n",
       "      <th>Fatigue</th>\n",
       "      <th>Worthlessness</th>\n",
       "      <th>Concentration</th>\n",
       "      <th>Agitation</th>\n",
       "      <th>Suicidal Ideation</th>\n",
       "      <th>Sleep Disturbance</th>\n",
       "      <th>Aggression</th>\n",
       "      <th>Panic Attacks</th>\n",
       "      <th>Hopelessness</th>\n",
       "      <th>Restlessness</th>\n",
       "      <th>Low Energy</th>\n",
       "      <th>Depression State</th>\n",
       "    </tr>\n",
       "  </thead>\n",
       "  <tbody>\n",
       "    <tr>\n",
       "      <th>0</th>\n",
       "      <td>1</td>\n",
       "      <td>1.0</td>\n",
       "      <td>1.0</td>\n",
       "      <td>1.0</td>\n",
       "      <td>5.0</td>\n",
       "      <td>5.0</td>\n",
       "      <td>1.0</td>\n",
       "      <td>5.0</td>\n",
       "      <td>5.0</td>\n",
       "      <td>1.0</td>\n",
       "      <td>5.0</td>\n",
       "      <td>5.0</td>\n",
       "      <td>5.0</td>\n",
       "      <td>5.0</td>\n",
       "      <td>5.0</td>\n",
       "      <td>Mild</td>\n",
       "    </tr>\n",
       "    <tr>\n",
       "      <th>1</th>\n",
       "      <td>2</td>\n",
       "      <td>2.0</td>\n",
       "      <td>5.0</td>\n",
       "      <td>5.0</td>\n",
       "      <td>1.0</td>\n",
       "      <td>1.0</td>\n",
       "      <td>5.0</td>\n",
       "      <td>1.0</td>\n",
       "      <td>1.0</td>\n",
       "      <td>5.0</td>\n",
       "      <td>1.0</td>\n",
       "      <td>1.0</td>\n",
       "      <td>1.0</td>\n",
       "      <td>1.0</td>\n",
       "      <td>1.0</td>\n",
       "      <td>Moderate</td>\n",
       "    </tr>\n",
       "    <tr>\n",
       "      <th>2</th>\n",
       "      <td>3</td>\n",
       "      <td>5.0</td>\n",
       "      <td>2.0</td>\n",
       "      <td>2.0</td>\n",
       "      <td>2.0</td>\n",
       "      <td>2.0</td>\n",
       "      <td>2.0</td>\n",
       "      <td>2.0</td>\n",
       "      <td>2.0</td>\n",
       "      <td>2.0</td>\n",
       "      <td>2.0</td>\n",
       "      <td>2.0</td>\n",
       "      <td>2.0</td>\n",
       "      <td>2.0</td>\n",
       "      <td>2.0</td>\n",
       "      <td>Severe</td>\n",
       "    </tr>\n",
       "    <tr>\n",
       "      <th>3</th>\n",
       "      <td>4</td>\n",
       "      <td>1.0</td>\n",
       "      <td>1.0</td>\n",
       "      <td>1.0</td>\n",
       "      <td>5.0</td>\n",
       "      <td>5.0</td>\n",
       "      <td>1.0</td>\n",
       "      <td>5.0</td>\n",
       "      <td>5.0</td>\n",
       "      <td>1.0</td>\n",
       "      <td>5.0</td>\n",
       "      <td>5.0</td>\n",
       "      <td>5.0</td>\n",
       "      <td>5.0</td>\n",
       "      <td>5.0</td>\n",
       "      <td>No depression</td>\n",
       "    </tr>\n",
       "    <tr>\n",
       "      <th>4</th>\n",
       "      <td>5</td>\n",
       "      <td>2.0</td>\n",
       "      <td>5.0</td>\n",
       "      <td>5.0</td>\n",
       "      <td>1.0</td>\n",
       "      <td>1.0</td>\n",
       "      <td>5.0</td>\n",
       "      <td>1.0</td>\n",
       "      <td>1.0</td>\n",
       "      <td>5.0</td>\n",
       "      <td>1.0</td>\n",
       "      <td>1.0</td>\n",
       "      <td>1.0</td>\n",
       "      <td>1.0</td>\n",
       "      <td>1.0</td>\n",
       "      <td>Moderate</td>\n",
       "    </tr>\n",
       "  </tbody>\n",
       "</table>\n",
       "</div>"
      ],
      "text/plain": [
       "   Number   Sleep  Appetite  Interest  Fatigue  Worthlessness  Concentration  \\\n",
       "0        1    1.0       1.0       1.0      5.0            5.0            1.0   \n",
       "1        2    2.0       5.0       5.0      1.0            1.0            5.0   \n",
       "2        3    5.0       2.0       2.0      2.0            2.0            2.0   \n",
       "3        4    1.0       1.0       1.0      5.0            5.0            1.0   \n",
       "4        5    2.0       5.0       5.0      1.0            1.0            5.0   \n",
       "\n",
       "   Agitation  Suicidal Ideation  Sleep Disturbance  Aggression  Panic Attacks  \\\n",
       "0        5.0                5.0                1.0         5.0            5.0   \n",
       "1        1.0                1.0                5.0         1.0            1.0   \n",
       "2        2.0                2.0                2.0         2.0            2.0   \n",
       "3        5.0                5.0                1.0         5.0            5.0   \n",
       "4        1.0                1.0                5.0         1.0            1.0   \n",
       "\n",
       "   Hopelessness  Restlessness  Low Energy Depression State  \n",
       "0           5.0           5.0         5.0             Mild  \n",
       "1           1.0           1.0         1.0         Moderate  \n",
       "2           2.0           2.0         2.0           Severe  \n",
       "3           5.0           5.0         5.0    No depression  \n",
       "4           1.0           1.0         1.0         Moderate  "
      ]
     },
     "execution_count": 2,
     "metadata": {},
     "output_type": "execute_result"
    }
   ],
   "source": [
    "depression = pd.read_csv(\"Deepression.csv\")\n",
    "depression.head()"
   ]
  },
  {
   "cell_type": "code",
   "execution_count": 3,
   "id": "2e135e56",
   "metadata": {},
   "outputs": [
    {
     "data": {
      "text/plain": [
       "Number                 int64\n",
       "Sleep                float64\n",
       "Appetite             float64\n",
       "Interest             float64\n",
       "Fatigue              float64\n",
       "Worthlessness        float64\n",
       "Concentration        float64\n",
       "Agitation            float64\n",
       "Suicidal Ideation    float64\n",
       "Sleep Disturbance    float64\n",
       "Aggression           float64\n",
       "Panic Attacks        float64\n",
       "Hopelessness         float64\n",
       "Restlessness         float64\n",
       "Low Energy           float64\n",
       "Depression State      object\n",
       "dtype: object"
      ]
     },
     "execution_count": 3,
     "metadata": {},
     "output_type": "execute_result"
    }
   ],
   "source": [
    "depression.dtypes"
   ]
  },
  {
   "cell_type": "code",
   "execution_count": 4,
   "id": "09e7c54c",
   "metadata": {},
   "outputs": [
    {
     "name": "stdout",
     "output_type": "stream",
     "text": [
      "Missing values:\n",
      "Number                 0\n",
      "Sleep                273\n",
      "Appetite             273\n",
      "Interest             273\n",
      "Fatigue              273\n",
      "Worthlessness        273\n",
      "Concentration        273\n",
      "Agitation            273\n",
      "Suicidal Ideation    273\n",
      "Sleep Disturbance    273\n",
      "Aggression           273\n",
      "Panic Attacks        273\n",
      "Hopelessness         273\n",
      "Restlessness         273\n",
      "Low Energy           273\n",
      "Depression State     273\n",
      "dtype: int64\n"
     ]
    }
   ],
   "source": [
    "missing_values = depression.isna().sum()\n",
    "print(\"Missing values:\")\n",
    "print(missing_values)"
   ]
  },
  {
   "cell_type": "code",
   "execution_count": 5,
   "id": "9dc5a7d1",
   "metadata": {},
   "outputs": [],
   "source": [
    "mode = depression['Depression State'].mode()[0]\n",
    "depression['Depression State'].fillna(mode, inplace = True)\n",
    "\n",
    "num_cols = [\n",
    "    'Sleep' , 'Appetite', 'Interest','Fatigue','Worthlessness',\n",
    "    'Concentration','Agitation','Suicidal Ideation','Sleep Disturbance','Aggression',\n",
    "    'Panic Attacks','Hopelessness','Restlessness','Low Energy'\n",
    "]\n",
    "depression[num_cols] = depression[num_cols].apply(lambda x: x.fillna(x.mean()))"
   ]
  },
  {
   "cell_type": "code",
   "execution_count": 6,
   "id": "730891d0",
   "metadata": {},
   "outputs": [
    {
     "data": {
      "text/plain": [
       "Number               0\n",
       "Sleep                0\n",
       "Appetite             0\n",
       "Interest             0\n",
       "Fatigue              0\n",
       "Worthlessness        0\n",
       "Concentration        0\n",
       "Agitation            0\n",
       "Suicidal Ideation    0\n",
       "Sleep Disturbance    0\n",
       "Aggression           0\n",
       "Panic Attacks        0\n",
       "Hopelessness         0\n",
       "Restlessness         0\n",
       "Low Energy           0\n",
       "Depression State     0\n",
       "dtype: int64"
      ]
     },
     "execution_count": 6,
     "metadata": {},
     "output_type": "execute_result"
    }
   ],
   "source": [
    "depression.isna().sum()"
   ]
  },
  {
   "cell_type": "code",
   "execution_count": 11,
   "id": "6925988d",
   "metadata": {},
   "outputs": [
    {
     "name": "stdout",
     "output_type": "stream",
     "text": [
      "['Mild' 'Moderate' 'Severe' 'No depression' '2No depression'\n",
      " '5No depression']\n"
     ]
    }
   ],
   "source": [
    "print(depression['Depression State'].unique())"
   ]
  },
  {
   "cell_type": "code",
   "execution_count": 12,
   "id": "8a1272b8",
   "metadata": {},
   "outputs": [
    {
     "name": "stdout",
     "output_type": "stream",
     "text": [
      "['Mild' 'Moderate' 'Severe' 'No depression']\n"
     ]
    }
   ],
   "source": [
    "depression['Depression State'] = (\n",
    "    depression['Depression State']\n",
    "    .str.strip()\n",
    "    .str.replace(r'^\\d+', '', regex = True)\n",
    "    .str.strip()\n",
    ")\n",
    "print(depression['Depression State'].unique())"
   ]
  },
  {
   "cell_type": "code",
   "execution_count": 19,
   "id": "5d5313c1",
   "metadata": {},
   "outputs": [
    {
     "data": {
      "text/html": [
       "\n",
       "        <iframe\n",
       "            width=\"100%\"\n",
       "            height=\"650\"\n",
       "            src=\"http://127.0.0.1:8050/\"\n",
       "            frameborder=\"0\"\n",
       "            allowfullscreen\n",
       "        ></iframe>\n",
       "        "
      ],
      "text/plain": [
       "<IPython.lib.display.IFrame at 0x27a88636a30>"
      ]
     },
     "metadata": {},
     "output_type": "display_data"
    }
   ],
   "source": [
    "app = dash.Dash(__name__)\n",
    "app.title = 'Depression Dashboard'\n",
    "\n",
    "app.layout = html.Div([\n",
    "    html.H1('Depression Dashboard'),\n",
    "    \n",
    "    dcc.Dropdown(\n",
    "        id = 'statedropdown',\n",
    "        options=[{'label': state, 'value': state} for state in depression['Depression State'].unique()],\n",
    "        value = depression['Depression State'].unique()[0]\n",
    "    ),\n",
    "    \n",
    "    dcc.Dropdown(\n",
    "        id = 'combodropdown',\n",
    "        options = [\n",
    "            {'label' : 'Mild and Moderate', 'value':'Mild,Moderate'},\n",
    "            {'label' : 'Mild and Severe', 'value' : 'Mild,Severe'},\n",
    "            {'label' : 'Mild and No depression', 'value' : 'Mild,No depression'},\n",
    "            {'label' : 'Moderate and Severe', 'value' : 'Moderate,Severe'},\n",
    "            {'label' : 'Moderate and No depression', 'value' : 'Moderate,No depression'},\n",
    "            {'label' : 'Severe and No depression', 'value' : 'Severe,No depression'}\n",
    "        \n",
    "        ],\n",
    "        value='Mild,Moderate'\n",
    "    ),\n",
    "    \n",
    "    html.Div([\n",
    "        dcc.Graph(id = 'box-plot'),\n",
    "        dcc.Graph(id = 'histogram'),\n",
    "        dcc.Graph(id = 'heatmap'),\n",
    "        dcc.Graph(id = 'pie-chart'),\n",
    "        dcc.Graph(id = 'bubble-plot'),\n",
    "        dcc.Graph(id = 'stacked-bar'),\n",
    "        dcc.Graph(id = 'density-plot'),\n",
    "        dcc.Graph(id = 'three-d-scatter')\n",
    "    ])\n",
    "])\n",
    "\n",
    "@app.callback(\n",
    "    [Output('box-plot', 'figure'),\n",
    "     Output('histogram', 'figure'),\n",
    "     Output('heatmap', 'figure'),\n",
    "     Output('pie-chart', 'figure'),\n",
    "     Output('bubble-plot', 'figure'),\n",
    "     Output('stacked-bar', 'figure'),\n",
    "     Output('density-plot','figure'),\n",
    "     Output('three-d-scatter', 'figure')],\n",
    "    [Input('statedropdown', 'value'),\n",
    "    Input('combodropdown', 'value')]\n",
    ")\n",
    "def visualizations(selected_state,selected_combo):\n",
    "    selected_states = selected_combo.split(',')\n",
    "    depression_data = depression[depression['Depression State'].isin(selected_states + [selected_state])]\n",
    "\n",
    "    box_fig = go.Figure()\n",
    "    for col in num_cols:\n",
    "        box_fig.add_trace(go.Box(y = depression_data[col], name = col))\n",
    "    box_fig.update_layout(title = 'Box Plot of Numeric Features')\n",
    "\n",
    "    hist_fig = go.Figure()\n",
    "    for col in num_cols:\n",
    "        hist_fig.add_trace(go.Histogram(x = depression_data[col], name = col, opacity = 0.75))\n",
    "    hist_fig.update_layout(title = 'Histogram of Numeric Features', barmode = 'overlay')\n",
    "\n",
    "    correlation_matrix = depression_data[num_cols].corr()\n",
    "    heatmap_fig = px.imshow(correlation_matrix, text_auto = True, color_continuous_scale = 'Viridis')\n",
    "    heatmap_fig.update_layout(title = 'Heatmap of Feature Correlations')\n",
    "\n",
    "    pie_fig = px.pie(depression_data, names = 'Depression State', title = 'Distribution of Depression States')\n",
    "    pie_fig.update_layout(title = 'Pie Chart of Depression States')\n",
    "    \n",
    "    bubble_fig = px.scatter(depression_data, x = 'Sleep', y = 'Fatigue', size = 'Low Energy', color = 'Depression State',\n",
    "                           hover_name='Depression State', size_max=60)\n",
    "    bubble_fig.update_layout(title='Bubble Plot of Sleep and Fatigue with Low Energy')\n",
    "\n",
    "    agg_data = depression.groupby('Depression State').sum().reset_index()\n",
    "    stacked_bar_fig = px.bar(agg_data, x='Depression State', y=num_cols,\n",
    "                             title='Stacked Bar Chart of Numeric Features by Depression State',\n",
    "                             labels={'value': 'Sum of Features', 'variable': 'Feature'},\n",
    "                             height=500)\n",
    "    stacked_bar_fig.update_layout(barmode='stack')\n",
    "    \n",
    "    density_fig = px.density_contour(depression_data, x = 'Sleep', y = 'Fatigue', color = 'Depression State',\n",
    "                                     title = 'Density Plot of Sleep vs. Fatigue')\n",
    "    density_fig.update_layout(title = 'Density Plot of Sleep vs. Fatigue')\n",
    "    \n",
    "    three_d_fig = px.scatter_3d(depression_data, x = 'Sleep', y = 'Fatigue', z = 'Low Energy', color = 'Depression State')\n",
    "    three_d_fig.update_layout(title = '3D Scatter Plot of Sleep, Fatigue, and Low Energy')\n",
    "\n",
    "\n",
    "    return box_fig, hist_fig, heatmap_fig, pie_fig, bubble_fig, stacked_bar_fig,density_fig,three_d_fig\n",
    "\n",
    "if __name__ == '__main__':\n",
    "    app.run_server(debug = True)"
   ]
  },
  {
   "cell_type": "markdown",
   "id": "8af673c7",
   "metadata": {},
   "source": [
    "# References : (https://www.kaggle.com/datasets/hamjashaikh/mental-health-detection-dataset) (https://dash.plotly.com/tutorial)"
   ]
  }
 ],
 "metadata": {
  "kernelspec": {
   "display_name": "Python 3",
   "language": "python",
   "name": "python3"
  },
  "language_info": {
   "codemirror_mode": {
    "name": "ipython",
    "version": 3
   },
   "file_extension": ".py",
   "mimetype": "text/x-python",
   "name": "python",
   "nbconvert_exporter": "python",
   "pygments_lexer": "ipython3",
   "version": "3.9.2"
  }
 },
 "nbformat": 4,
 "nbformat_minor": 5
}
